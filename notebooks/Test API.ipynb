{
 "cells": [
  {
   "cell_type": "code",
   "execution_count": 1,
   "id": "ec6747de-3713-42c2-9de8-e4665afc3934",
   "metadata": {},
   "outputs": [],
   "source": [
    "import requests"
   ]
  },
  {
   "cell_type": "code",
   "execution_count": 4,
   "id": "13b86377-2c4d-43a1-8036-61b4662db27b",
   "metadata": {},
   "outputs": [],
   "source": [
    "image_path = \"../data/sampling/document_1/sample_0.png\"\n",
    "sample_id = \"1\"\n",
    "document_id = \"1\""
   ]
  },
  {
   "cell_type": "code",
   "execution_count": 8,
   "id": "5d48b06c-ec86-45af-83a2-a4f029c18ad9",
   "metadata": {},
   "outputs": [],
   "source": [
    "url = \"http://localhost:8000/document_generator/api/sample_documents/\"\n",
    "files = {\n",
    "    \"image\": open(image_path, \"rb\")\n",
    "}\n",
    "data = {\n",
    "    \"name\": f\"sample_{sample_id}\",\n",
    "    \"template_document\": document_id\n",
    "}\n",
    "\n",
    "with requests.Session() as session:\n",
    "    response = session.post(url, files=files, data=data)"
   ]
  },
  {
   "cell_type": "code",
   "execution_count": 9,
   "id": "099d5092-4f1a-4ebf-9eac-8025206c2742",
   "metadata": {},
   "outputs": [
    {
     "data": {
      "text/plain": [
       "{'id': 3,\n",
       " 'name': 'sample_1',\n",
       " 'image': 'http://localhost:8000/media/document_samples/sample_0_WnvVe1D.png',\n",
       " 'template_document': 1}"
      ]
     },
     "execution_count": 9,
     "metadata": {},
     "output_type": "execute_result"
    }
   ],
   "source": [
    "response.json()"
   ]
  },
  {
   "cell_type": "code",
   "execution_count": null,
   "id": "6e6cfe26-b201-4875-b6ae-0e619c796d40",
   "metadata": {},
   "outputs": [],
   "source": []
  }
 ],
 "metadata": {
  "kernelspec": {
   "display_name": "Python 3 (ipykernel)",
   "language": "python",
   "name": "python3"
  },
  "language_info": {
   "codemirror_mode": {
    "name": "ipython",
    "version": 3
   },
   "file_extension": ".py",
   "mimetype": "text/x-python",
   "name": "python",
   "nbconvert_exporter": "python",
   "pygments_lexer": "ipython3",
   "version": "3.12.6"
  }
 },
 "nbformat": 4,
 "nbformat_minor": 5
}
