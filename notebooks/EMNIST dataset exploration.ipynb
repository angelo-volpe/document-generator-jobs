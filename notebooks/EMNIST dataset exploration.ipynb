{
 "cells": [
  {
   "cell_type": "code",
   "execution_count": 1,
   "id": "8c912260-1153-491c-9151-66fa0c40a4e1",
   "metadata": {},
   "outputs": [],
   "source": [
    "from emnist import list_datasets, extract_training_samples\n",
    "from matplotlib import pyplot as plt\n",
    "import cv2\n",
    "import numpy as np\n",
    "from pathlib import Path"
   ]
  },
  {
   "cell_type": "code",
   "execution_count": 2,
   "id": "b57b392e",
   "metadata": {},
   "outputs": [
    {
     "data": {
      "text/plain": [
       "['balanced', 'byclass', 'bymerge', 'digits', 'letters', 'mnist']"
      ]
     },
     "execution_count": 2,
     "metadata": {},
     "output_type": "execute_result"
    }
   ],
   "source": [
    "list_datasets()"
   ]
  },
  {
   "cell_type": "code",
   "execution_count": 54,
   "id": "1c942ca3",
   "metadata": {},
   "outputs": [],
   "source": [
    "def add_alpha(image):\n",
    "    # Create a new RGBA image\n",
    "    rgba = np.zeros((image.shape[0], image.shape[1], 4), dtype=np.uint8)\n",
    "    rgba[:,:,0] = image         # R channel (grayscale value)\n",
    "    rgba[:,:,1] = image         # G channel (grayscale value)\n",
    "    rgba[:,:,2] = image         # B channel (grayscale value)\n",
    "    rgba[:,:,3] = 255 - image   # A channel (inverse of grayscale - white becomes transparent)\n",
    "\n",
    "    return rgba\n",
    "\n",
    "def crop_to_content_old(image):\n",
    "    ret, thresh = cv2.threshold(image, 0, 255, cv2.THRESH_BINARY)\n",
    "    contours = cv2.findContours(thresh, cv2.RETR_EXTERNAL, cv2.CHAIN_APPROX_SIMPLE)\n",
    "    contours = contours[0] if len(contours) == 2 else contours[1]\n",
    "    cntr = contours[0]\n",
    "    x,y,w,h = cv2.boundingRect(cntr)\n",
    "\n",
    "    return image[y:y+h, x:x+w]\n",
    "\n",
    "\n",
    "def crop_to_content(image):\n",
    "    ret, thresh = cv2.threshold(image, 0, 255, cv2.THRESH_BINARY)\n",
    "    content = np.argwhere(thresh == 255)\n",
    "    x_min, x_max = np.min(content[:, 0]), np.max(content[:, 0])\n",
    "    y_min, y_max = np.min(content[:, 1]), np.max(content[:, 1])\n",
    "\n",
    "    return image[x_min:x_max, y_min:y_max]\n"
   ]
  },
  {
   "cell_type": "code",
   "execution_count": 55,
   "id": "bce95c68",
   "metadata": {},
   "outputs": [],
   "source": [
    "letters_imgs, letters_labels = extract_training_samples('byclass')"
   ]
  },
  {
   "cell_type": "code",
   "execution_count": 56,
   "id": "bf932739",
   "metadata": {},
   "outputs": [
    {
     "data": {
      "text/plain": [
       "(np.uint8(0), np.uint8(61))"
      ]
     },
     "execution_count": 56,
     "metadata": {},
     "output_type": "execute_result"
    }
   ],
   "source": [
    "min(letters_labels), max(letters_labels)"
   ]
  },
  {
   "cell_type": "code",
   "execution_count": 57,
   "id": "81202d50",
   "metadata": {},
   "outputs": [],
   "source": [
    "label = 26\n",
    "unit = 40"
   ]
  },
  {
   "cell_type": "code",
   "execution_count": 58,
   "id": "79074f03",
   "metadata": {},
   "outputs": [],
   "source": [
    "q = letters_labels[letters_labels == label]"
   ]
  },
  {
   "cell_type": "code",
   "execution_count": 59,
   "id": "f7e7ba67",
   "metadata": {},
   "outputs": [
    {
     "data": {
      "text/plain": [
       "np.uint8(26)"
      ]
     },
     "execution_count": 59,
     "metadata": {},
     "output_type": "execute_result"
    }
   ],
   "source": [
    "letters_labels[letters_labels == label][unit]"
   ]
  },
  {
   "cell_type": "code",
   "execution_count": 60,
   "id": "c02a1aee",
   "metadata": {},
   "outputs": [],
   "source": [
    "image = letters_imgs[letters_labels == label][unit]"
   ]
  },
  {
   "cell_type": "code",
   "execution_count": 63,
   "id": "1204ad6e",
   "metadata": {},
   "outputs": [
    {
     "data": {
      "text/plain": [
       "<matplotlib.image.AxesImage at 0x1379a8590>"
      ]
     },
     "execution_count": 63,
     "metadata": {},
     "output_type": "execute_result"
    },
    {
     "data": {
      "image/png": "[encoded data removed]",
      "text/plain": [
       "<Figure size 640x480 with 1 Axes>"
      ]
     },
     "metadata": {},
     "output_type": "display_data"
    }
   ],
   "source": [
    "plt.imshow(image, cmap='gray')"
   ]
  },
  {
   "cell_type": "code",
   "execution_count": 64,
   "id": "80f3e9aa",
   "metadata": {},
   "outputs": [
    {
     "data": {
      "text/plain": [
       "<matplotlib.image.AxesImage at 0x1379dab40>"
      ]
     },
     "execution_count": 64,
     "metadata": {},
     "output_type": "execute_result"
    },
    {
     "data": {
      "image/png": "[encoded data removed]",
      "text/plain": [
       "<Figure size 640x480 with 1 Axes>"
      ]
     },
     "metadata": {},
     "output_type": "display_data"
    }
   ],
   "source": [
    "plt.imshow(crop_to_content(image), cmap=\"gray\")"
   ]
  },
  {
   "cell_type": "code",
   "execution_count": 250,
   "id": "60bca1fc",
   "metadata": {},
   "outputs": [],
   "source": [
    "hw_dataset_path = Path(\"../data/handwritten_dataset_emnist/\")\n",
    "counter = {}\n",
    "\n",
    "for image, label in zip(letters_imgs, letters_labels):\n",
    "    # check label is a number or uppercase letter\n",
    "    if label in range(10, 36):\n",
    "        counter[label] = counter.get(label, 0) + 1\n",
    "\n",
    "        # crop image to content\n",
    "        image = crop_to_content(image)\n",
    "\n",
    "        # invert colors\n",
    "        image = 255 - image\n",
    "\n",
    "        # add alpha channel\n",
    "        image = add_alpha(image)\n",
    "\n",
    "        # save image\n",
    "        folder_name = chr(label+55) if label >= 10 else str(label)\n",
    "        output_path = hw_dataset_path / folder_name\n",
    "        output_path.mkdir(parents=True, exist_ok=True)\n",
    "        res = cv2.imwrite(output_path / f\"{counter[label]}.png\", image)\n",
    "\n",
    "        break"
   ]
  },
  {
   "cell_type": "code",
   "execution_count": null,
   "id": "885ee01d",
   "metadata": {},
   "outputs": [],
   "source": []
  }
 ],
 "metadata": {
  "kernelspec": {
   "display_name": ".venv",
   "language": "python",
   "name": "python3"
  },
  "language_info": {
   "codemirror_mode": {
    "name": "ipython",
    "version": 3
   },
   "file_extension": ".py",
   "mimetype": "text/x-python",
   "name": "python",
   "nbconvert_exporter": "python",
   "pygments_lexer": "ipython3",
   "version": "3.12.6"
  }
 },
 "nbformat": 4,
 "nbformat_minor": 5
}
